{
 "cells": [
  {
   "cell_type": "markdown",
   "metadata": {},
   "source": [
    "# Input parameter"
   ]
  },
  {
   "cell_type": "code",
   "execution_count": 22,
   "metadata": {},
   "outputs": [],
   "source": [
    "path = [\"./Clustering_test1\",\"./Clustering_test2\",\"./Clustering_test3\"]\n",
    "minPts = 5\n",
    "radius = 5"
   ]
  },
  {
   "cell_type": "markdown",
   "metadata": {},
   "source": [
    "# Data parser"
   ]
  },
  {
   "cell_type": "code",
   "execution_count": 23,
   "metadata": {},
   "outputs": [],
   "source": [
    "def parserData(path):\n",
    "    data = []\n",
    "    for p in path:\n",
    "        with open(p) as f:\n",
    "            for line in f.readlines():\n",
    "                temp = line.replace('\\n','').split(' ')\n",
    "                for i in temp:\n",
    "                    i = float(i)\n",
    "                data.append(temp)\n",
    "    return data"
   ]
  },
  {
   "cell_type": "markdown",
   "metadata": {},
   "source": [
    "# import"
   ]
  },
  {
   "cell_type": "code",
   "execution_count": 24,
   "metadata": {},
   "outputs": [],
   "source": [
    "import numpy as np\n",
    "import math as m\n",
    "import queue\n",
    "\n",
    "#flag\n",
    "NOISE = 0\n",
    "UNASSIGNED = -1"
   ]
  },
  {
   "cell_type": "markdown",
   "metadata": {},
   "source": [
    "# Algorithm Function"
   ]
  },
  {
   "cell_type": "code",
   "execution_count": 25,
   "metadata": {},
   "outputs": [],
   "source": [
    "def dist(a, b):\n",
    "    return m.sqrt(np.power(a-b, 2).sum())"
   ]
  },
  {
   "cell_type": "code",
   "execution_count": 26,
   "metadata": {},
   "outputs": [],
   "source": [
    "def neighbor_points(data, pointId, radius):\n",
    "    \n",
    "    points = []\n",
    "    for i in range(len(data)):\n",
    "        if dist(data[i], data[pointId]) < radius:\n",
    "            points.append(i)\n",
    "    return np.asarray(points)"
   ]
  },
  {
   "cell_type": "code",
   "execution_count": 27,
   "metadata": {},
   "outputs": [],
   "source": [
    "def to_cluster(data, clusterRes, pointId, clusterId, radius, minPts):\n",
    "    points = neighbor_points(data, pointId, radius)\n",
    "    points = points.tolist()\n",
    "\n",
    "    q = queue.Queue()\n",
    "\n",
    "    if len(points) < minPts:\n",
    "        clusterRes[pointId] = NOISE\n",
    "        return False\n",
    "    else:\n",
    "        clusterRes[pointId] = clusterId\n",
    "    for point in points:\n",
    "        if clusterRes[point] == UNASSIGNED:\n",
    "            q.put(point)\n",
    "            clusterRes[point] = clusterId\n",
    "\n",
    "    while not q.empty():\n",
    "        neighborRes = neighbor_points(data, q.get(), radius)\n",
    "        #core\n",
    "        if len(neighborRes) >= minPts:        \n",
    "            for i in range(len(neighborRes)):\n",
    "                resultPoint = neighborRes[i]\n",
    "                if clusterRes[resultPoint] == UNASSIGNED:\n",
    "                    q.put(resultPoint)\n",
    "                    clusterRes[resultPoint] = clusterId\n",
    "                elif clusterRes[clusterId] == NOISE:\n",
    "                    clusterRes[resultPoint] = clusterId\n",
    "    return True"
   ]
  },
  {
   "cell_type": "code",
   "execution_count": 28,
   "metadata": {},
   "outputs": [],
   "source": [
    "def dbscan(data, radius, minPts):\n",
    "    clusterId = 1\n",
    "    nPoints = len(data)\n",
    "    clusterRes = [UNASSIGNED] * nPoints\n",
    "    for pointId in range(nPoints):\n",
    "        if clusterRes[pointId] == UNASSIGNED:\n",
    "            if to_cluster(data, clusterRes, pointId, clusterId, radius, minPts):\n",
    "                clusterId = clusterId + 1\n",
    "    return np.asarray(clusterRes), clusterId"
   ]
  },
  {
   "cell_type": "markdown",
   "metadata": {},
   "source": [
    "# Main function"
   ]
  },
  {
   "cell_type": "code",
   "execution_count": 29,
   "metadata": {},
   "outputs": [],
   "source": [
    "data = parserData(path)"
   ]
  },
  {
   "cell_type": "code",
   "execution_count": 30,
   "metadata": {},
   "outputs": [
    {
     "name": "stdout",
     "output_type": "stream",
     "text": [
      "[[34.70363146 40.0721846 ]\n",
      " [ 8.61904277 63.86217743]\n",
      " [68.70245625 27.78689069]\n",
      " ...\n",
      " [18.78313401 44.74542011]\n",
      " [87.00546963 87.57270108]\n",
      " [52.31562456 49.77572006]]\n",
      "3223\n"
     ]
    }
   ],
   "source": [
    "data = np.asarray(data)\n",
    "data = data.astype(np.float)\n",
    "print(data)\n",
    "print(len(data))"
   ]
  },
  {
   "cell_type": "code",
   "execution_count": null,
   "metadata": {},
   "outputs": [],
   "source": [
    "clusterRes, clusterNum = dbscan(data, radius, minPts)"
   ]
  },
  {
   "cell_type": "code",
   "execution_count": null,
   "metadata": {},
   "outputs": [],
   "source": [
    "print(\"number of cluster : \" + str(clusterNum))"
   ]
  },
  {
   "cell_type": "code",
   "execution_count": null,
   "metadata": {},
   "outputs": [],
   "source": [
    "output=[]\n",
    "for i in range(len(clusterRes)):\n",
    "    output.append(str(data[i][0])+ \" \" + str(data[i][1]) + \" \" + str(clusterRes[i]))\n",
    "    print(output[i])"
   ]
  },
  {
   "cell_type": "markdown",
   "metadata": {},
   "source": [
    "# Output to txt"
   ]
  },
  {
   "cell_type": "code",
   "execution_count": null,
   "metadata": {},
   "outputs": [],
   "source": [
    "with open(\"output.txt\", \"w\") as f:\n",
    "    for i in output:\n",
    "        f.write(i+\" \\n\")\n",
    "print(\"...............................OK\")"
   ]
  },
  {
   "cell_type": "code",
   "execution_count": null,
   "metadata": {},
   "outputs": [],
   "source": []
  }
 ],
 "metadata": {
  "kernelspec": {
   "display_name": "Python 3",
   "language": "python",
   "name": "python3"
  },
  "language_info": {
   "codemirror_mode": {
    "name": "ipython",
    "version": 3
   },
   "file_extension": ".py",
   "mimetype": "text/x-python",
   "name": "python",
   "nbconvert_exporter": "python",
   "pygments_lexer": "ipython3",
   "version": "3.6.5"
  }
 },
 "nbformat": 4,
 "nbformat_minor": 2
}
