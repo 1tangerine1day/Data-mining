{
 "cells": [
  {
   "cell_type": "markdown",
   "metadata": {},
   "source": [
    "# parameter setting"
   ]
  },
  {
   "cell_type": "code",
   "execution_count": 656,
   "metadata": {},
   "outputs": [],
   "source": [
    "min_sup = 4000\n",
    "min_conf = 0.5\n",
    "path = \"./input.txt\""
   ]
  },
  {
   "cell_type": "markdown",
   "metadata": {},
   "source": [
    "# import"
   ]
  },
  {
   "cell_type": "code",
   "execution_count": 657,
   "metadata": {},
   "outputs": [],
   "source": [
    "import itertools"
   ]
  },
  {
   "cell_type": "markdown",
   "metadata": {},
   "source": [
    "# FP tree node"
   ]
  },
  {
   "cell_type": "code",
   "execution_count": 658,
   "metadata": {},
   "outputs": [],
   "source": [
    "class FPNode(object):\n",
    "    \"\"\"\n",
    "    A node in the FP tree\n",
    "    \"\"\"\n",
    "\n",
    "    def __init__(self, value, count, parent):\n",
    "        \"\"\"\n",
    "        Create the node\n",
    "        \"\"\"\n",
    "        self.value = value\n",
    "        self.count = count\n",
    "        self.parent = parent\n",
    "        self.link = None\n",
    "        self.children = []\n",
    "\n",
    "    def has_child(self, value):\n",
    "        \"\"\"\n",
    "        Check if node has a particular child node\n",
    "        \"\"\"\n",
    "        for node in self.children:\n",
    "            if node.value == value:\n",
    "                return True\n",
    "\n",
    "        return False\n",
    "\n",
    "    def get_child(self, value):\n",
    "        \"\"\"\n",
    "        Return a child node with a particular value\n",
    "        \"\"\"\n",
    "        for node in self.children:\n",
    "            if node.value == value:\n",
    "                return node\n",
    "\n",
    "        return None\n",
    "\n",
    "    def add_child(self, value):\n",
    "        \"\"\"\n",
    "        Add a node as a child node\n",
    "        \"\"\"\n",
    "        child = FPNode(value, 1, self)\n",
    "        self.children.append(child)\n",
    "        return child\n"
   ]
  },
  {
   "cell_type": "markdown",
   "metadata": {},
   "source": [
    "# FP tree"
   ]
  },
  {
   "cell_type": "code",
   "execution_count": 667,
   "metadata": {},
   "outputs": [],
   "source": [
    "class FPTree(object):\n",
    "    \"\"\"\n",
    "    A frequent pattern tree\n",
    "    \"\"\"\n",
    "\n",
    "    def __init__(self, transactions, threshold, root_value, root_count):\n",
    "        \"\"\"\n",
    "        Initialize the tree\n",
    "        \"\"\"\n",
    "        self.frequent = self.find_frequent_items(transactions, threshold)\n",
    "        self.headers = self.build_header_table(self.frequent)\n",
    "        self.root = self.build_fptree(\n",
    "            transactions, root_value,\n",
    "            root_count, self.frequent, self.headers)\n",
    "\n",
    "    @staticmethod\n",
    "    def find_frequent_items(transactions, threshold):\n",
    "        \"\"\"\n",
    "        Create a dictionary of items with occurrences above the threshold\n",
    "        \"\"\"\n",
    "        items = {}\n",
    "\n",
    "        for transaction in transactions:\n",
    "            for item in transaction:\n",
    "                if item in items:\n",
    "                    items[item] += 1\n",
    "                else:\n",
    "                    items[item] = 1\n",
    "\n",
    "        for key in list(items.keys()):\n",
    "            if items[key] < threshold:\n",
    "                del items[key]\n",
    "\n",
    "        return items\n",
    "\n",
    "    @staticmethod\n",
    "    def build_header_table(frequent):\n",
    "        \"\"\"\n",
    "        Build the header table\n",
    "        \"\"\"\n",
    "        headers = {}\n",
    "        for key in frequent.keys():\n",
    "            headers[key] = None\n",
    "\n",
    "        return headers\n",
    "\n",
    "    def build_fptree(self, transactions, root_value,\n",
    "                     root_count, frequent, headers):\n",
    "        \"\"\"\n",
    "        Build the FP tree and return the root node\n",
    "        \"\"\"\n",
    "        root = FPNode(root_value, root_count, None)\n",
    "\n",
    "        for transaction in transactions:\n",
    "            sorted_items = [x for x in transaction if x in frequent]\n",
    "            sorted_items.sort(key=lambda x: frequent[x], reverse=True)\n",
    "            if len(sorted_items) > 0:\n",
    "                self.insert_tree(sorted_items, root, headers)\n",
    "\n",
    "        return root\n",
    "\n",
    "    def insert_tree(self, items, node, headers):\n",
    "        \"\"\"\n",
    "        Recursively grow FP tree\n",
    "        \"\"\"\n",
    "        first = items[0]\n",
    "        child = node.get_child(first)\n",
    "        if child is not None:\n",
    "            child.count += 1\n",
    "        else:\n",
    "            # Add new child.\n",
    "            child = node.add_child(first)\n",
    "\n",
    "            # Link it to header structure.\n",
    "            if headers[first] is None:\n",
    "                headers[first] = child\n",
    "            else:\n",
    "                current = headers[first]\n",
    "                while current.link is not None:\n",
    "                    current = current.link\n",
    "                current.link = child\n",
    "\n",
    "        # Call function recursively.\n",
    "        remaining_items = items[1:]\n",
    "        if len(remaining_items) > 0:\n",
    "            self.insert_tree(remaining_items, child, headers)\n",
    "\n",
    "    def tree_has_single_path(self, node):\n",
    "        \"\"\"\n",
    "        If there is a single path in the tree return True, else return False\n",
    "        \"\"\"\n",
    "        num_children = len(node.children)\n",
    "        if num_children > 1:\n",
    "            return False\n",
    "        elif num_children == 0:\n",
    "            return True\n",
    "        else:\n",
    "            return True and self.tree_has_single_path(node.children[0])\n",
    "\n",
    "    def mine_patterns(self, threshold):\n",
    "        \"\"\"\n",
    "        Mine the constructed FP tree for frequent patterns\n",
    "        \"\"\"\n",
    "        if self.tree_has_single_path(self.root):\n",
    "            return self.generate_pattern_list()\n",
    "        else:\n",
    "            return self.zip_patterns(self.mine_sub_trees(threshold))\n",
    "\n",
    "    def zip_patterns(self, patterns):\n",
    "        \"\"\"\n",
    "        Append suffix to patterns in dictionary if in a conditional FP tree\n",
    "        \"\"\"\n",
    "        suffix = self.root.value\n",
    "\n",
    "        if suffix is not None:\n",
    "            # We are in a conditional tree.\n",
    "            new_patterns = {}\n",
    "            for key in patterns.keys():\n",
    "                new_patterns[tuple(sorted(list(key) + [suffix]))] = patterns[key]\n",
    "\n",
    "            return new_patterns\n",
    "\n",
    "        return patterns\n",
    "\n",
    "    def generate_pattern_list(self):\n",
    "        \"\"\"\n",
    "        Generate a list of patterns with support counts\n",
    "        \"\"\"\n",
    "        patterns = {}\n",
    "        items = self.frequent.keys()\n",
    "\n",
    "        # If we are in a conditional tree,\n",
    "        # the suffix is a pattern on its own.\n",
    "        if self.root.value is None:\n",
    "            suffix_value = []\n",
    "        else:\n",
    "            suffix_value = [self.root.value]\n",
    "            patterns[tuple(suffix_value)] = self.root.count\n",
    "\n",
    "        for i in range(1, len(items) + 1):\n",
    "            for subset in itertools.combinations(items, i):\n",
    "                pattern = tuple(sorted(list(subset) + suffix_value))\n",
    "                patterns[pattern] = \\\n",
    "                    min([self.frequent[x] for x in subset])\n",
    "\n",
    "        return patterns\n",
    "\n",
    "    def mine_sub_trees(self, threshold):\n",
    "        \"\"\"\n",
    "        Generate subtrees and mine them for patterns\n",
    "        \"\"\"\n",
    "        patterns = {}\n",
    "        mining_order = sorted(self.frequent.keys(), key=lambda x: self.frequent[x])\n",
    "\n",
    "        # Get items in tree in reverse order of occurrences.\n",
    "        for item in mining_order:\n",
    "            suffixes = []\n",
    "            conditional_tree_input = []\n",
    "            node = self.headers[item]\n",
    "\n",
    "            # Follow node links to get a list of\n",
    "            # all occurrences of a certain item.\n",
    "            while node is not None:\n",
    "                suffixes.append(node)\n",
    "                node = node.link\n",
    "\n",
    "            # For each occurrence of the item, \n",
    "            # trace the path back to the root node.\n",
    "            for suffix in suffixes:\n",
    "                frequency = suffix.count\n",
    "                path = []\n",
    "                parent = suffix.parent\n",
    "\n",
    "                while parent.parent is not None:\n",
    "                    path.append(parent.value)\n",
    "                    parent = parent.parent\n",
    "\n",
    "                for i in range(frequency):\n",
    "                    conditional_tree_input.append(path)\n",
    "\n",
    "            # Now we have the input for a subtree,\n",
    "            # so construct it and grab the patterns.\n",
    "            subtree = FPTree(conditional_tree_input, threshold,\n",
    "                             item, self.frequent[item])\n",
    "            subtree_patterns = subtree.mine_patterns(threshold)\n",
    "\n",
    "            # Insert subtree patterns into main patterns dictionary.\n",
    "            for pattern in subtree_patterns.keys():\n",
    "                if pattern in patterns:\n",
    "                    patterns[pattern] += subtree_patterns[pattern]\n",
    "                else:\n",
    "                    patterns[pattern] = subtree_patterns[pattern]\n",
    "\n",
    "        return patterns\n"
   ]
  },
  {
   "cell_type": "markdown",
   "metadata": {},
   "source": [
    "# read file"
   ]
  },
  {
   "cell_type": "code",
   "execution_count": 668,
   "metadata": {},
   "outputs": [],
   "source": [
    "with open(path) as f:\n",
    "    parsedData = [line.split() for line in f.readlines()]"
   ]
  },
  {
   "cell_type": "markdown",
   "metadata": {},
   "source": [
    "# frequence patterns"
   ]
  },
  {
   "cell_type": "code",
   "execution_count": 669,
   "metadata": {},
   "outputs": [],
   "source": [
    "def find_frequent_patterns(transactions, support_threshold):\n",
    "    \"\"\"\n",
    "    Given a set of transactions, find the patterns in it over the min_sup\n",
    "    \"\"\"\n",
    "    tree = FPTree(transactions, support_threshold, None, None)\n",
    "    return tree.mine_patterns(support_threshold)"
   ]
  },
  {
   "cell_type": "code",
   "execution_count": 670,
   "metadata": {},
   "outputs": [],
   "source": [
    "patterns = find_frequent_patterns(parsedData, min_sup)"
   ]
  },
  {
   "cell_type": "code",
   "execution_count": 671,
   "metadata": {},
   "outputs": [
    {
     "name": "stdout",
     "output_type": "stream",
     "text": [
      "{('65',): 4472, ('41', '48'): 9018, ('39', '41', '48'): 7366, ('39', '41'): 11414, ('32', '48'): 8034, ('32', '39', '48'): 5402, ('32', '39'): 8455, ('38', '48'): 7944, ('38', '39', '48'): 6102, ('38', '39'): 10345, ('48',): 42135, ('39', '48'): 29142, ('39',): 50675}\n"
     ]
    }
   ],
   "source": [
    "print(patterns)"
   ]
  },
  {
   "cell_type": "markdown",
   "metadata": {},
   "source": [
    "# Associational Rules"
   ]
  },
  {
   "cell_type": "code",
   "execution_count": 672,
   "metadata": {},
   "outputs": [],
   "source": [
    "def generate_association_rules(patterns, confidence_threshold):\n",
    "    \"\"\"\n",
    "    Given a set of frequent itemsets, return a dictof association rules in the form {(left): ((right), confidence)}\n",
    "    \"\"\"\n",
    "    rules = {}\n",
    "    for itemset in patterns.keys():\n",
    "        upper_support = patterns[itemset]\n",
    "\n",
    "        for i in range(1, len(itemset)):\n",
    "            for antecedent in itertools.combinations(itemset, i):\n",
    "                antecedent = tuple(sorted(antecedent))\n",
    "                consequent = tuple(sorted(set(itemset) - set(antecedent)))\n",
    "\n",
    "                if antecedent in patterns:\n",
    "                    lower_support = patterns[antecedent]\n",
    "                    confidence = float(upper_support) / lower_support\n",
    "\n",
    "                    if confidence >= confidence_threshold:\n",
    "                        rules[antecedent] = (consequent, confidence)\n",
    "\n",
    "    return rules"
   ]
  },
  {
   "cell_type": "code",
   "execution_count": 673,
   "metadata": {},
   "outputs": [
    {
     "name": "stdout",
     "output_type": "stream",
     "text": [
      "{39,41} -> 48 (0.6453478184685474)\n",
      "{41,48} -> 39 (0.8168108227988468)\n",
      "{32,39} -> 48 (0.6389118864577173)\n",
      "{32,48} -> 39 (0.6723923325865073)\n",
      "{38,39} -> 48 (0.5898501691638472)\n",
      "{38,48} -> 39 (0.7681268882175226)\n",
      "39 -> 48 (0.5750764676862358)\n",
      "48 -> 39 (0.6916340334638661)\n"
     ]
    }
   ],
   "source": [
    "rules = generate_association_rules(patterns, min_conf)\n",
    "final = []\n",
    "\n",
    "for i in rules:\n",
    "    \n",
    "    if len(list(i)) is 1:\n",
    "        x = ','.join(str(e) for e in list(i))\n",
    "    else:\n",
    "        x = \"{\" + ','.join(str(e) for e in list(i)) + \"}\"\n",
    "    \n",
    "    if len(list(rules[i][0])) is 1:\n",
    "        y = ','.join(str(e) for e in list(rules[i][0]))\n",
    "    else:\n",
    "        y = \"{\" + ','.join(str(e) for e in list(rules[i][0])) + \"}\"\n",
    "        \n",
    "    z = rules[i][1]\n",
    "    \n",
    "    temp = x + \" -> \"+ y + \" (\" + str(z) + \")\"\n",
    "    \n",
    "    final += [temp]\n",
    "    print(temp)"
   ]
  },
  {
   "cell_type": "markdown",
   "metadata": {},
   "source": [
    "# output txt"
   ]
  },
  {
   "cell_type": "code",
   "execution_count": 665,
   "metadata": {},
   "outputs": [],
   "source": [
    "with open(\"output.txt\", \"w\") as f:\n",
    "    for i in final:\n",
    "        f.write(i+\" \\n\")"
   ]
  },
  {
   "cell_type": "code",
   "execution_count": null,
   "metadata": {},
   "outputs": [],
   "source": []
  }
 ],
 "metadata": {
  "kernelspec": {
   "display_name": "Python 3",
   "language": "python",
   "name": "python3"
  },
  "language_info": {
   "codemirror_mode": {
    "name": "ipython",
    "version": 3
   },
   "file_extension": ".py",
   "mimetype": "text/x-python",
   "name": "python",
   "nbconvert_exporter": "python",
   "pygments_lexer": "ipython3",
   "version": "3.6.5"
  }
 },
 "nbformat": 4,
 "nbformat_minor": 2
}
